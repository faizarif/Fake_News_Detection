{
 "cells": [
  {
   "cell_type": "code",
   "execution_count": 2,
   "id": "5aa20e88",
   "metadata": {},
   "outputs": [],
   "source": [
    "import numpy as np\n",
    "import pandas as pd\n",
    "import nltk\n",
    "import re"
   ]
  },
  {
   "cell_type": "code",
   "execution_count": 44,
   "id": "164764d2",
   "metadata": {},
   "outputs": [],
   "source": [
    "from tensorflow.keras.preprocessing.text import Tokenizer\n",
    "from tensorflow.keras.preprocessing.sequence import pad_sequences\n",
    "from tensorflow.keras.models import Sequential\n",
    "from tensorflow.keras.layers import Dense,Embedding,LSTM,Conv1D,MaxPool1D\n",
    "from sklearn.model_selection import train_test_split\n",
    "from sklearn.metrics import classification_report,accuracy_score\n",
    "from sklearn.feature_extraction.text import TfidfVectorizer\n",
    "from sklearn.feature_extraction.text import CountVectorizer"
   ]
  },
  {
   "cell_type": "code",
   "execution_count": 4,
   "id": "716d4d95",
   "metadata": {},
   "outputs": [],
   "source": [
    "fake=pd.read_csv('Fake.csv')\n",
    "real=pd.read_csv('True.csv')"
   ]
  },
  {
   "cell_type": "code",
   "execution_count": 6,
   "id": "d6888f11",
   "metadata": {},
   "outputs": [],
   "source": [
    "unknown_publishers=[]\n",
    "for index,row in enumerate(real.text.values):\n",
    "    try:\n",
    "        record=row.split(' - ',maxsplit=1)\n",
    "        record[1]\n",
    "        assert(len(record[0])<120)\n",
    "    except:\n",
    "        unknown_publishers.append(index)"
   ]
  },
  {
   "cell_type": "code",
   "execution_count": 7,
   "id": "907ccddf",
   "metadata": {},
   "outputs": [
    {
     "data": {
      "text/plain": [
       "229"
      ]
     },
     "execution_count": 7,
     "metadata": {},
     "output_type": "execute_result"
    }
   ],
   "source": [
    "len(unknown_publishers)"
   ]
  },
  {
   "cell_type": "code",
   "execution_count": 8,
   "id": "5a5177ee",
   "metadata": {},
   "outputs": [
    {
     "data": {
      "text/plain": [
       "7        The following statements were posted to the ve...\n",
       "8        The following statements were posted to the ve...\n",
       "12       The following statements were posted to the ve...\n",
       "13       The following statements were posted to the ve...\n",
       "14        (In Dec. 25 story, in second paragraph, corre...\n",
       "                               ...                        \n",
       "20135     (Story corrects to million from billion in pa...\n",
       "20500     (This Sept 8 story corrects headline, clarifi...\n",
       "20667     (Story refiles to add dropped word  not , in ...\n",
       "21246     (Story corrects third paragraph to show Mosul...\n",
       "21339     (Story corrects to fix spelling in paragraph ...\n",
       "Name: text, Length: 229, dtype: object"
      ]
     },
     "execution_count": 8,
     "metadata": {},
     "output_type": "execute_result"
    }
   ],
   "source": [
    "real.iloc[unknown_publishers].text"
   ]
  },
  {
   "cell_type": "code",
   "execution_count": 9,
   "id": "fa7c54a2",
   "metadata": {},
   "outputs": [],
   "source": [
    "publisher= []\n",
    "tmp_text= []\n",
    "for index,row in enumerate(real.text.values):\n",
    "    if index in unknown_publishers:\n",
    "        tmp_text.append(row)\n",
    "        publisher.append('Unknown')\n",
    "    else:\n",
    "        record=row.split(' - ',maxsplit=1)\n",
    "        publisher.append(record[0].strip())\n",
    "        tmp_text.append(record[1].strip())"
   ]
  },
  {
   "cell_type": "code",
   "execution_count": 10,
   "id": "6919a3c8",
   "metadata": {},
   "outputs": [],
   "source": [
    "real['publisher']=publisher\n",
    "real['text']=tmp_text"
   ]
  },
  {
   "cell_type": "code",
   "execution_count": 11,
   "id": "a278a93b",
   "metadata": {},
   "outputs": [
    {
     "data": {
      "text/html": [
       "<div>\n",
       "<style scoped>\n",
       "    .dataframe tbody tr th:only-of-type {\n",
       "        vertical-align: middle;\n",
       "    }\n",
       "\n",
       "    .dataframe tbody tr th {\n",
       "        vertical-align: top;\n",
       "    }\n",
       "\n",
       "    .dataframe thead th {\n",
       "        text-align: right;\n",
       "    }\n",
       "</style>\n",
       "<table border=\"1\" class=\"dataframe\">\n",
       "  <thead>\n",
       "    <tr style=\"text-align: right;\">\n",
       "      <th></th>\n",
       "      <th>title</th>\n",
       "      <th>text</th>\n",
       "      <th>subject</th>\n",
       "      <th>date</th>\n",
       "    </tr>\n",
       "  </thead>\n",
       "  <tbody>\n",
       "    <tr>\n",
       "      <th>10923</th>\n",
       "      <td>TAKE OUR POLL: Who Do You Think President Trum...</td>\n",
       "      <td></td>\n",
       "      <td>politics</td>\n",
       "      <td>May 10, 2017</td>\n",
       "    </tr>\n",
       "    <tr>\n",
       "      <th>11041</th>\n",
       "      <td>Joe Scarborough BERATES Mika Brzezinski Over “...</td>\n",
       "      <td></td>\n",
       "      <td>politics</td>\n",
       "      <td>Apr 26, 2017</td>\n",
       "    </tr>\n",
       "    <tr>\n",
       "      <th>11190</th>\n",
       "      <td>WATCH TUCKER CARLSON Scorch Sanctuary City May...</td>\n",
       "      <td></td>\n",
       "      <td>politics</td>\n",
       "      <td>Apr 6, 2017</td>\n",
       "    </tr>\n",
       "    <tr>\n",
       "      <th>11225</th>\n",
       "      <td>MAYOR OF SANCTUARY CITY: Trump Trying To Make ...</td>\n",
       "      <td></td>\n",
       "      <td>politics</td>\n",
       "      <td>Apr 2, 2017</td>\n",
       "    </tr>\n",
       "    <tr>\n",
       "      <th>11236</th>\n",
       "      <td>SHOCKER: Public School Turns Computer Lab Into...</td>\n",
       "      <td></td>\n",
       "      <td>politics</td>\n",
       "      <td>Apr 1, 2017</td>\n",
       "    </tr>\n",
       "    <tr>\n",
       "      <th>...</th>\n",
       "      <td>...</td>\n",
       "      <td>...</td>\n",
       "      <td>...</td>\n",
       "      <td>...</td>\n",
       "    </tr>\n",
       "    <tr>\n",
       "      <th>21816</th>\n",
       "      <td>BALTIMORE BURNS: MARYLAND GOVERNOR BRINGS IN N...</td>\n",
       "      <td></td>\n",
       "      <td>left-news</td>\n",
       "      <td>Apr 27, 2015</td>\n",
       "    </tr>\n",
       "    <tr>\n",
       "      <th>21826</th>\n",
       "      <td>FULL VIDEO: THE BLOCKBUSTER INVESTIGATION INTO...</td>\n",
       "      <td></td>\n",
       "      <td>left-news</td>\n",
       "      <td>Apr 25, 2015</td>\n",
       "    </tr>\n",
       "    <tr>\n",
       "      <th>21827</th>\n",
       "      <td>(VIDEO) HILLARY CLINTON: RELIGIOUS BELIEFS MUS...</td>\n",
       "      <td></td>\n",
       "      <td>left-news</td>\n",
       "      <td>Apr 25, 2015</td>\n",
       "    </tr>\n",
       "    <tr>\n",
       "      <th>21857</th>\n",
       "      <td>(VIDEO)ICE PROTECTING OBAMA: WON’T RELEASE NAM...</td>\n",
       "      <td></td>\n",
       "      <td>left-news</td>\n",
       "      <td>Apr 14, 2015</td>\n",
       "    </tr>\n",
       "    <tr>\n",
       "      <th>21873</th>\n",
       "      <td>(VIDEO) HYSTERICAL SNL TAKE ON HILLARY’S ANNOU...</td>\n",
       "      <td></td>\n",
       "      <td>left-news</td>\n",
       "      <td>Apr 12, 2015</td>\n",
       "    </tr>\n",
       "  </tbody>\n",
       "</table>\n",
       "<p>630 rows × 4 columns</p>\n",
       "</div>"
      ],
      "text/plain": [
       "                                                   title text    subject  \\\n",
       "10923  TAKE OUR POLL: Who Do You Think President Trum...        politics   \n",
       "11041  Joe Scarborough BERATES Mika Brzezinski Over “...        politics   \n",
       "11190  WATCH TUCKER CARLSON Scorch Sanctuary City May...        politics   \n",
       "11225  MAYOR OF SANCTUARY CITY: Trump Trying To Make ...        politics   \n",
       "11236  SHOCKER: Public School Turns Computer Lab Into...        politics   \n",
       "...                                                  ...  ...        ...   \n",
       "21816  BALTIMORE BURNS: MARYLAND GOVERNOR BRINGS IN N...       left-news   \n",
       "21826  FULL VIDEO: THE BLOCKBUSTER INVESTIGATION INTO...       left-news   \n",
       "21827  (VIDEO) HILLARY CLINTON: RELIGIOUS BELIEFS MUS...       left-news   \n",
       "21857  (VIDEO)ICE PROTECTING OBAMA: WON’T RELEASE NAM...       left-news   \n",
       "21873  (VIDEO) HYSTERICAL SNL TAKE ON HILLARY’S ANNOU...       left-news   \n",
       "\n",
       "               date  \n",
       "10923  May 10, 2017  \n",
       "11041  Apr 26, 2017  \n",
       "11190   Apr 6, 2017  \n",
       "11225   Apr 2, 2017  \n",
       "11236   Apr 1, 2017  \n",
       "...             ...  \n",
       "21816  Apr 27, 2015  \n",
       "21826  Apr 25, 2015  \n",
       "21827  Apr 25, 2015  \n",
       "21857  Apr 14, 2015  \n",
       "21873  Apr 12, 2015  \n",
       "\n",
       "[630 rows x 4 columns]"
      ]
     },
     "execution_count": 11,
     "metadata": {},
     "output_type": "execute_result"
    }
   ],
   "source": [
    "empty_fake_index=[index for index, text in enumerate(fake.text.tolist()) if str(text).strip()==\"\"]\n",
    "fake.iloc[empty_fake_index]"
   ]
  },
  {
   "cell_type": "code",
   "execution_count": 12,
   "id": "dbfb719d",
   "metadata": {},
   "outputs": [],
   "source": [
    "real['text']=real['title']+\" \"+real['text']\n",
    "fake['text']=fake['title']+\" \"+fake['text']"
   ]
  },
  {
   "cell_type": "code",
   "execution_count": 13,
   "id": "0f01143a",
   "metadata": {},
   "outputs": [],
   "source": [
    "real['text']=real['text'].apply(lambda x: str(x).lower())\n",
    "fake['text']=fake['text'].apply(lambda x: str(x).lower())"
   ]
  },
  {
   "cell_type": "code",
   "execution_count": 14,
   "id": "c2bfb5c1",
   "metadata": {},
   "outputs": [],
   "source": [
    "real['class']=1\n",
    "fake['class']=0"
   ]
  },
  {
   "cell_type": "code",
   "execution_count": 15,
   "id": "46a4c0f2",
   "metadata": {},
   "outputs": [],
   "source": [
    "real=real[['text','class']]\n",
    "fake=fake[['text','class']]"
   ]
  },
  {
   "cell_type": "code",
   "execution_count": 16,
   "id": "f895ac2c",
   "metadata": {},
   "outputs": [
    {
     "name": "stderr",
     "output_type": "stream",
     "text": [
      "C:\\Users\\faiza\\AppData\\Local\\Temp\\ipykernel_47360\\1826422205.py:1: FutureWarning: The frame.append method is deprecated and will be removed from pandas in a future version. Use pandas.concat instead.\n",
      "  data=real.append(fake,ignore_index=True)#merging data\n"
     ]
    },
    {
     "data": {
      "text/plain": [
       "44898"
      ]
     },
     "execution_count": 16,
     "metadata": {},
     "output_type": "execute_result"
    }
   ],
   "source": [
    "data=real.append(fake,ignore_index=True)#merging data\n",
    "len(data)"
   ]
  },
  {
   "cell_type": "code",
   "execution_count": 17,
   "id": "31cbbf09",
   "metadata": {},
   "outputs": [
    {
     "data": {
      "text/plain": [
       "44898"
      ]
     },
     "execution_count": 17,
     "metadata": {},
     "output_type": "execute_result"
    }
   ],
   "source": [
    "label=data['class']\n",
    "text=data['text']\n",
    "len(label)"
   ]
  },
  {
   "cell_type": "code",
   "execution_count": 18,
   "id": "3f3f6e4a",
   "metadata": {},
   "outputs": [],
   "source": [
    "import preprocess_kgptalkie as ps"
   ]
  },
  {
   "cell_type": "code",
   "execution_count": 19,
   "id": "82f1f991",
   "metadata": {},
   "outputs": [
    {
     "data": {
      "text/plain": [
       "0        as us budget fight looms republicans flip thei...\n",
       "1        us military to accept transgender recruits on ...\n",
       "2        senior us republican senator let mr mueller do...\n",
       "3        fbi russia probe helped by australian diplomat...\n",
       "4        trump wants postal service to charge much more...\n",
       "                               ...                        \n",
       "44893    mcpain john mccain furious that iran treated u...\n",
       "44894    justice yahoo settles email privacy classactio...\n",
       "44895    sunnistan us and allied safe zone plan to take...\n",
       "44896    how to blow 700 million al jazeera america fin...\n",
       "44897    10 us navy sailors held by iranian military si...\n",
       "Name: text, Length: 44898, dtype: object"
      ]
     },
     "execution_count": 19,
     "metadata": {},
     "output_type": "execute_result"
    }
   ],
   "source": [
    "data['text'].apply(lambda x: ps.remove_special_chars(x))"
   ]
  },
  {
   "cell_type": "code",
   "execution_count": 54,
   "id": "fc9bb45e",
   "metadata": {},
   "outputs": [],
   "source": [
    "import gensim\n",
    "y=data['class']\n",
    "x=data['text']"
   ]
  },
  {
   "cell_type": "code",
   "execution_count": 64,
   "id": "3f3744d1",
   "metadata": {},
   "outputs": [
    {
     "data": {
      "text/plain": [
       "0        1\n",
       "1        1\n",
       "2        1\n",
       "3        1\n",
       "4        1\n",
       "        ..\n",
       "44893    0\n",
       "44894    0\n",
       "44895    0\n",
       "44896    0\n",
       "44897    0\n",
       "Name: class, Length: 44898, dtype: int64"
      ]
     },
     "execution_count": 64,
     "metadata": {},
     "output_type": "execute_result"
    }
   ],
   "source": [
    "y"
   ]
  },
  {
   "cell_type": "code",
   "execution_count": 55,
   "id": "e25c249e",
   "metadata": {},
   "outputs": [],
   "source": [
    "x=x.apply(lambda it: str(it).lower())"
   ]
  },
  {
   "cell_type": "code",
   "execution_count": 57,
   "id": "66c1884d",
   "metadata": {},
   "outputs": [],
   "source": [
    "X_train,X_test,y_train,y_test=train_test_split(x,y)"
   ]
  },
  {
   "cell_type": "code",
   "execution_count": 59,
   "id": "9f043ce4",
   "metadata": {},
   "outputs": [],
   "source": [
    "###count vectorization(Bag of WORDS)\n",
    "vec=CountVectorizer(lowercase=False)\n",
    "vec.fit(list(X_train)+list(X_test))\n",
    "x_train_vec=vec.transform(X_train)\n",
    "x_test_vec=vec.transform(X_test)"
   ]
  },
  {
   "cell_type": "code",
   "execution_count": 60,
   "id": "f441f390",
   "metadata": {},
   "outputs": [],
   "source": [
    "##model-1####\n",
    "from sklearn import svm\n",
    "svm=svm.SVC(kernel='rbf',probability=True)\n",
    "prob=svm.fit(x_train_vec,y_train).predict_proba(x_test_vec)\n",
    "y_pred_svm=svm.predict(x_test_vec)"
   ]
  },
  {
   "cell_type": "code",
   "execution_count": 61,
   "id": "4bd13555",
   "metadata": {},
   "outputs": [
    {
     "data": {
      "text/plain": [
       "0.9823608017817372"
      ]
     },
     "execution_count": 61,
     "metadata": {},
     "output_type": "execute_result"
    }
   ],
   "source": [
    "accuracy_score(y_test,y_pred_svm)"
   ]
  },
  {
   "cell_type": "code",
   "execution_count": 66,
   "id": "dce2cedf",
   "metadata": {},
   "outputs": [],
   "source": [
    "vectorizer=TfidfVectorizer(min_df=0.01,lowercase=False,max_features=1000)\n",
    "vectorizer.fit(list(X_train)+list(X_test))\n",
    "x_train_tfidf=vectorizer.transform(X_train)\n",
    "x_test_tfidf=vectorizer.transform(X_test)"
   ]
  },
  {
   "cell_type": "code",
   "execution_count": 67,
   "id": "9e6ede90",
   "metadata": {},
   "outputs": [],
   "source": [
    "###mode-2####\n",
    "from sklearn import svm\n",
    "svm=svm.SVC(kernel='rbf',probability=True)\n",
    "prob=svm.fit(x_train_tfidf,y_train).predict_proba(x_test_tfidf)\n",
    "y_pred_svm=svm.predict(x_test_tfidf)"
   ]
  },
  {
   "cell_type": "code",
   "execution_count": 68,
   "id": "c8dd5f6a",
   "metadata": {},
   "outputs": [
    {
     "data": {
      "text/plain": [
       "0.9878841870824053"
      ]
     },
     "execution_count": 68,
     "metadata": {},
     "output_type": "execute_result"
    }
   ],
   "source": [
    "accuracy_score(y_test,y_pred_svm)"
   ]
  },
  {
   "cell_type": "code",
   "execution_count": null,
   "id": "2bbc2edc",
   "metadata": {},
   "outputs": [],
   "source": []
  },
  {
   "cell_type": "code",
   "execution_count": null,
   "id": "6e6d921a",
   "metadata": {},
   "outputs": [],
   "source": []
  },
  {
   "cell_type": "code",
   "execution_count": null,
   "id": "c9fd1ad1",
   "metadata": {},
   "outputs": [],
   "source": []
  },
  {
   "cell_type": "code",
   "execution_count": null,
   "id": "11507ece",
   "metadata": {},
   "outputs": [],
   "source": []
  },
  {
   "cell_type": "code",
   "execution_count": null,
   "id": "ec27f4a0",
   "metadata": {},
   "outputs": [],
   "source": []
  },
  {
   "cell_type": "code",
   "execution_count": 56,
   "id": "1905bd24",
   "metadata": {},
   "outputs": [],
   "source": []
  },
  {
   "cell_type": "code",
   "execution_count": null,
   "id": "d7a835c9",
   "metadata": {},
   "outputs": [],
   "source": []
  }
 ],
 "metadata": {
  "kernelspec": {
   "display_name": "Python 3 (ipykernel)",
   "language": "python",
   "name": "python3"
  },
  "language_info": {
   "codemirror_mode": {
    "name": "ipython",
    "version": 3
   },
   "file_extension": ".py",
   "mimetype": "text/x-python",
   "name": "python",
   "nbconvert_exporter": "python",
   "pygments_lexer": "ipython3",
   "version": "3.10.4"
  }
 },
 "nbformat": 4,
 "nbformat_minor": 5
}
